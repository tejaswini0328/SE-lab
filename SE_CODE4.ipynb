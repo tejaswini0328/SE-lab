{
  "nbformat": 4,
  "nbformat_minor": 0,
  "metadata": {
    "colab": {
      "provenance": [],
      "authorship_tag": "ABX9TyMOnz5I1F8qDu4nmanLGvqg",
      "include_colab_link": true
    },
    "kernelspec": {
      "name": "python3",
      "display_name": "Python 3"
    },
    "language_info": {
      "name": "python"
    }
  },
  "cells": [
    {
      "cell_type": "markdown",
      "metadata": {
        "id": "view-in-github",
        "colab_type": "text"
      },
      "source": [
        "<a href=\"https://colab.research.google.com/github/tejaswini0328/SE-lab/blob/main/SE_CODE4.ipynb\" target=\"_parent\"><img src=\"https://colab.research.google.com/assets/colab-badge.svg\" alt=\"Open In Colab\"/></a>"
      ]
    },
    {
      "cell_type": "code",
      "execution_count": 1,
      "metadata": {
        "colab": {
          "base_uri": "https://localhost:8080/"
        },
        "id": "aANyVj8zirno",
        "outputId": "914c8be4-1804-43e9-ad7f-6f448397180b"
      },
      "outputs": [
        {
          "output_type": "stream",
          "name": "stdout",
          "text": [
            "For T=2.0°C, H=8.0%, W=-5.0m/s, the calculated w is: -15.1\n",
            "For T=3.0°C, H=-6.0%, W=12.0m/s, the calculated w is: -8.1\n",
            "For T=-1.0°C, H=25.0%, W=3.0m/s, the calculated w is: -19.2\n",
            "For T=9.0°C, H=-7.0%, W=6.0m/s, the calculated w is: 27.5\n",
            "For T=2.0°C, H=17.0%, W=-8.0m/s, the calculated w is: -17.2\n"
          ]
        }
      ],
      "source": [
        "import math\n",
        "\n",
        "# Function to calculate w\n",
        "def calculate_w(T, H, W):\n",
        "    w = 0.5 * T**2 - 0.2 * H + 0.1 * W - 15\n",
        "    return w\n",
        "\n",
        "# Read input from file\n",
        "with open(\"4.txt\", \"r\") as file:\n",
        "    for line in file:\n",
        "        T, H, W = map(float, line.split())  # Split and convert the values to float\n",
        "        w = calculate_w(T, H, W)  # Calculate w\n",
        "        print(f\"For T={T}°C, H={H}%, W={W}m/s, the calculated w is: {w}\")"
      ]
    }
  ]
}