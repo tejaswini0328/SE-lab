{
  "nbformat": 4,
  "nbformat_minor": 0,
  "metadata": {
    "colab": {
      "provenance": [],
      "authorship_tag": "ABX9TyNMamaB2Fe7icsVTiOjTsJM",
      "include_colab_link": true
    },
    "kernelspec": {
      "name": "python3",
      "display_name": "Python 3"
    },
    "language_info": {
      "name": "python"
    }
  },
  "cells": [
    {
      "cell_type": "markdown",
      "metadata": {
        "id": "view-in-github",
        "colab_type": "text"
      },
      "source": [
        "<a href=\"https://colab.research.google.com/github/tejaswini0328/SE-lab/blob/main/8_puzzle.ipynb\" target=\"_parent\"><img src=\"https://colab.research.google.com/assets/colab-badge.svg\" alt=\"Open In Colab\"/></a>"
      ]
    },
    {
      "cell_type": "code",
      "execution_count": null,
      "metadata": {
        "id": "7qHr6ULWOsi5",
        "outputId": "dcb21d1f-fe28-4214-e3d7-99b854039914",
        "colab": {
          "base_uri": "https://localhost:8080/"
        }
      },
      "outputs": [
        {
          "output_type": "stream",
          "name": "stdout",
          "text": [
            "Enter the initial configuration of the 8-puzzle (use 0 to represent the empty space):\n",
            "2 3 1 0 6 5 8 7 4 \n",
            "Solution found!\n",
            "Number of moves: 23\n",
            "Goal state:\n",
            "(1, 2, 3)\n",
            "(4, 5, 6)\n",
            "(7, 8, 0)\n"
          ]
        }
      ],
      "source": [
        "from collections import deque\n",
        "\n",
        "class PuzzleState:\n",
        "    def __init__(self, puzzle, moves=0, previous=None):\n",
        "        self.puzzle = puzzle\n",
        "        self.moves = moves\n",
        "        self.previous = previous\n",
        "        self.goal = (1, 2, 3, 4, 5, 6, 7, 8, 0)  # goal state of the puzzle\n",
        "\n",
        "    def __eq__(self, other):\n",
        "        return self.puzzle == other.puzzle\n",
        "\n",
        "    def __hash__(self):\n",
        "        return hash(tuple(self.puzzle))\n",
        "\n",
        "    def solved(self):\n",
        "        return self.puzzle == self.goal\n",
        "\n",
        "    def successors(self):\n",
        "        i = self.puzzle.index(0)\n",
        "        moves = []\n",
        "        if i % 3 > 0:  # move empty space left\n",
        "            new_puzzle = list(self.puzzle)\n",
        "            new_puzzle[i], new_puzzle[i - 1] = new_puzzle[i - 1], new_puzzle[i]\n",
        "            moves.append(PuzzleState(tuple(new_puzzle), self.moves + 1, self))\n",
        "        if i % 3 < 2:  # move empty space right\n",
        "            new_puzzle = list(self.puzzle)\n",
        "            new_puzzle[i], new_puzzle[i + 1] = new_puzzle[i + 1], new_puzzle[i]\n",
        "            moves.append(PuzzleState(tuple(new_puzzle), self.moves + 1, self))\n",
        "        if i // 3 > 0:  # move empty space up\n",
        "            new_puzzle = list(self.puzzle)\n",
        "            new_puzzle[i], new_puzzle[i - 3] = new_puzzle[i - 3], new_puzzle[i]\n",
        "            moves.append(PuzzleState(tuple(new_puzzle), self.moves + 1, self))\n",
        "        if i // 3 < 2:  # move empty space down\n",
        "            new_puzzle = list(self.puzzle)\n",
        "            new_puzzle[i], new_puzzle[i + 3] = new_puzzle[i + 3], new_puzzle[i]\n",
        "            moves.append(PuzzleState(tuple(new_puzzle), self.moves + 1, self))\n",
        "        return moves\n",
        "\n",
        "def bfs(initial_state):\n",
        "    frontier = deque([initial_state])\n",
        "    visited = set()\n",
        "    visited.add(initial_state)\n",
        "\n",
        "    while frontier:\n",
        "        state = frontier.popleft()\n",
        "        if state.solved():\n",
        "            return state\n",
        "        for successor in state.successors():\n",
        "            if successor not in visited:\n",
        "                visited.add(successor)\n",
        "                frontier.append(successor)\n",
        "\n",
        "    return None\n",
        "\n",
        "def print_puzzle(puzzle):\n",
        "    for i in range(0, 9, 3):\n",
        "        print(puzzle[i:i+3])\n",
        "\n",
        "if __name__ == \"__main__\":\n",
        "    print(\"Enter the initial configuration of the 8-puzzle (use 0 to represent the empty space):\")\n",
        "    initial_puzzle = tuple(int(x) for x in input().strip().split())\n",
        "\n",
        "    if len(initial_puzzle) != 9 or set(initial_puzzle) != set(range(9)):\n",
        "        print(\"Invalid puzzle configuration. Please provide a valid 3x3 grid with numbers 0-8.\")\n",
        "    else:\n",
        "        puzzle = PuzzleState(initial_puzzle)\n",
        "        solution = bfs(puzzle)\n",
        "        if solution:\n",
        "            print(\"Solution found!\")\n",
        "            print(\"Number of moves:\", solution.moves)\n",
        "            print(\"Goal state:\")\n",
        "            print_puzzle(solution.puzzle)\n",
        "        else:\n",
        "            print(\"No solution found!\")\n"
      ]
    }
  ]
}