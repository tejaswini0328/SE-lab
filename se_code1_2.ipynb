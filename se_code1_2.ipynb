{
  "nbformat": 4,
  "nbformat_minor": 0,
  "metadata": {
    "colab": {
      "provenance": [],
      "authorship_tag": "ABX9TyO5vLXXvn9PXN8A9bv4GuqE",
      "include_colab_link": true
    },
    "kernelspec": {
      "name": "python3",
      "display_name": "Python 3"
    },
    "language_info": {
      "name": "python"
    }
  },
  "cells": [
    {
      "cell_type": "markdown",
      "metadata": {
        "id": "view-in-github",
        "colab_type": "text"
      },
      "source": [
        "<a href=\"https://colab.research.google.com/github/tejaswini0328/SE-lab/blob/main/se_code1_2.ipynb\" target=\"_parent\"><img src=\"https://colab.research.google.com/assets/colab-badge.svg\" alt=\"Open In Colab\"/></a>"
      ]
    },
    {
      "cell_type": "code",
      "execution_count": null,
      "metadata": {
        "colab": {
          "base_uri": "https://localhost:8080/"
        },
        "id": "_wGyfrKGfUiP",
        "outputId": "5971c7ed-87a9-40c0-9902-5ceca10a19d6"
      },
      "outputs": [
        {
          "output_type": "stream",
          "name": "stdout",
          "text": [
            "For T=25°C, H=60%, W=10m/s, the calculated w is: 286.5\n"
          ]
        }
      ],
      "source": [
        "import math\n",
        "\n",
        "# Hard-coded variables for weather modeling equation\n",
        "T = 25  # Temperature in Celsius\n",
        "H = 60  # Humidity in percentage\n",
        "W = 10  # Wind speed in m/s\n",
        "\n",
        "# Function to calculate w\n",
        "def calculate_w(T, H, W):\n",
        "    w = 0.5 * T**2 - 0.2 * H + 0.1 * W - 15\n",
        "    return w\n",
        "\n",
        "# Calculate w\n",
        "w = calculate_w(T, H, W)\n",
        "\n",
        "# Output the result\n",
        "print(f\"For T={T}°C, H={H}%, W={W}m/s, the calculated w is: {w}\")"
      ]
    },
    {
      "cell_type": "code",
      "source": [
        "import math\n",
        "\n",
        "# Function to calculate w\n",
        "def calculate_w(T, H, W):\n",
        "    w = 0.5 * T**2 - 0.2 * H + 0.1 * W - 15\n",
        "    return w\n",
        "\n",
        "# Get user input for temperature, humidity, and wind speed\n",
        "T = float(input(\"Enter temperature (T) in Celsius: \"))\n",
        "H = float(input(\"Enter humidity (H) in percentage: \"))\n",
        "W = float(input(\"Enter wind speed (W) in m/s: \"))\n",
        "\n",
        "# Calculate w\n",
        "w = calculate_w(T, H, W)\n",
        "\n",
        "# Output the result\n",
        "print(f\"For T={T}°C, H={H}%, W={W}m/s, the calculated w is: {w}\")"
      ],
      "metadata": {
        "colab": {
          "base_uri": "https://localhost:8080/"
        },
        "id": "wRqLCSEcf44H",
        "outputId": "5cab9a65-a89b-4a9e-e2bc-cd6f46dbcfbb"
      },
      "execution_count": null,
      "outputs": [
        {
          "output_type": "stream",
          "name": "stdout",
          "text": [
            "Enter temperature (T) in Celsius: 25\n",
            "Enter humidity (H) in percentage: 1\n",
            "Enter wind speed (W) in m/s: 5\n",
            "For T=25.0°C, H=1.0%, W=5.0m/s, the calculated w is: 297.8\n"
          ]
        }
      ]
    }
  ]
}