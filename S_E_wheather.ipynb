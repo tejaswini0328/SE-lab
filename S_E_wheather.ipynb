{
  "nbformat": 4,
  "nbformat_minor": 0,
  "metadata": {
    "colab": {
      "provenance": [],
      "authorship_tag": "ABX9TyMSQtCLXIqFbw3MqPckavwn",
      "include_colab_link": true
    },
    "kernelspec": {
      "name": "python3",
      "display_name": "Python 3"
    },
    "language_info": {
      "name": "python"
    }
  },
  "cells": [
    {
      "cell_type": "markdown",
      "metadata": {
        "id": "view-in-github",
        "colab_type": "text"
      },
      "source": [
        "<a href=\"https://colab.research.google.com/github/tejaswini0328/SE-lab/blob/main/S_E_wheather.ipynb\" target=\"_parent\"><img src=\"https://colab.research.google.com/assets/colab-badge.svg\" alt=\"Open In Colab\"/></a>"
      ]
    },
    {
      "cell_type": "code",
      "execution_count": 1,
      "metadata": {
        "colab": {
          "base_uri": "https://localhost:8080/"
        },
        "id": "P0sV8yQCmkqM",
        "outputId": "ad557796-c7af-4e63-ef33-eb180c147b61"
      },
      "outputs": [
        {
          "output_type": "stream",
          "name": "stdout",
          "text": [
            "For T=25°C, H=60%, W=10m/s, the calculated w is: 286.5\n"
          ]
        }
      ],
      "source": [
        "import math\n",
        "\n",
        "# Hard-coded variables for weather modeling equation\n",
        "T = 25  # Temperature in Celsius\n",
        "H = 60  # Humidity in percentage\n",
        "W = 10  # Wind speed in m/s\n",
        "\n",
        "# Function to calculate w\n",
        "def calculate_w(T, H, W):\n",
        "    w = 0.5 * T**2 - 0.2 * H + 0.1 * W - 15\n",
        "    return w\n",
        "\n",
        "# Calculate w\n",
        "w = calculate_w(T, H, W)\n",
        "\n",
        "# Output the result\n",
        "print(f\"For T={T}°C, H={H}%, W={W}m/s, the calculated w is: {w}\")"
      ]
    },
    {
      "cell_type": "code",
      "source": [
        "import math\n",
        "\n",
        "# Function to calculate w\n",
        "def calculate_w(T, H, W):\n",
        "    w = 0.5 * T**2 - 0.2 * H + 0.1 * W - 15\n",
        "    return w\n",
        "\n",
        "# Get user input for temperature, humidity, and wind speed\n",
        "T = float(input(\"Enter temperature (T) in Celsius: \"))\n",
        "H = float(input(\"Enter humidity (H) in percentage: \"))\n",
        "W = float(input(\"Enter wind speed (W) in m/s: \"))\n",
        "\n",
        "# Calculate w\n",
        "w = calculate_w(T, H, W)\n",
        "\n",
        "# Output the result\n",
        "print(f\"For T={T}°C, H={H}%, W={W}m/s, the calculated w is: {w}\")"
      ],
      "metadata": {
        "colab": {
          "base_uri": "https://localhost:8080/"
        },
        "id": "JHGj50Wcm0wD",
        "outputId": "677d813e-8da5-4d6b-b239-583e867eecf6"
      },
      "execution_count": 2,
      "outputs": [
        {
          "output_type": "stream",
          "name": "stdout",
          "text": [
            "Enter temperature (T) in Celsius: 25\n",
            "Enter humidity (H) in percentage: 1\n",
            "Enter wind speed (W) in m/s: 3\n",
            "For T=25.0°C, H=1.0%, W=3.0m/s, the calculated w is: 297.6\n"
          ]
        }
      ]
    },
    {
      "cell_type": "code",
      "source": [
        "import math\n",
        "\n",
        "# Function to calculate w\n",
        "def calculate_w(T, H, W):\n",
        "    w = 0.5 * T**2 - 0.2 * H + 0.1 * W - 15\n",
        "    return w\n",
        "\n",
        "# Read input from file\n",
        "with open(\"4.txt\", \"r\") as file:\n",
        "    for line in file:\n",
        "        T, H, W = map(float, line.split())  # Split and convert the values to float\n",
        "        w = calculate_w(T, H, W)  # Calculate w\n",
        "        print(f\"For T={T}°C, H={H}%, W={W}m/s, the calculated w is: {w}\")"
      ],
      "metadata": {
        "colab": {
          "base_uri": "https://localhost:8080/"
        },
        "id": "iYyCZF0Jm48s",
        "outputId": "eab61ca6-f6ff-4499-b360-fd8ed15f6b05"
      },
      "execution_count": 4,
      "outputs": [
        {
          "output_type": "stream",
          "name": "stdout",
          "text": [
            "For T=1.0°C, H=-2.0%, W=3.0m/s, the calculated w is: -13.8\n",
            "For T=4.0°C, H=7.0%, W=-9.0m/s, the calculated w is: -9.3\n",
            "For T=5.0°C, H=-10.0%, W=6.0m/s, the calculated w is: 0.09999999999999964\n",
            "For T=8.0°C, H=6.0%, W=-12.0m/s, the calculated w is: 14.600000000000001\n"
          ]
        }
      ]
    },
    {
      "cell_type": "code",
      "source": [
        "import math\n",
        "\n",
        "# Function to calculate w\n",
        "def calculate_w(T, H, W):\n",
        "    w = 0.5 * T**2 - 0.2 * H + 0.1 * W - 15\n",
        "    return w\n",
        "\n",
        "# Read input from file\n",
        "with open(\"3.txt\", \"r\") as file:\n",
        "    line = file.readline()  # Read the first line\n",
        "    T, H, W = map(float, line.split())  # Split and convert the values to float\n",
        "\n",
        "# Calculate w\n",
        "w = calculate_w(T, H, W)\n",
        "\n",
        "# Output the result\n",
        "print(f\"For T={T}°C, H={H}%, W={W}m/s, the calculated w is: {w}\")"
      ],
      "metadata": {
        "colab": {
          "base_uri": "https://localhost:8080/"
        },
        "id": "6jrdoEV2nBEi",
        "outputId": "6f0aaf1d-45f8-4fc8-c54b-6939bc9429e5"
      },
      "execution_count": 5,
      "outputs": [
        {
          "output_type": "stream",
          "name": "stdout",
          "text": [
            "For T=24.0°C, H=56.0%, W=12.0m/s, the calculated w is: 263.0\n"
          ]
        }
      ]
    }
  ]
}