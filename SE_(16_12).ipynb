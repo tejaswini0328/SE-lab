{
  "nbformat": 4,
  "nbformat_minor": 0,
  "metadata": {
    "colab": {
      "provenance": [],
      "authorship_tag": "ABX9TyP+/tGlaYo+Hn/LMzvPSDQQ",
      "include_colab_link": true
    },
    "kernelspec": {
      "name": "python3",
      "display_name": "Python 3"
    },
    "language_info": {
      "name": "python"
    }
  },
  "cells": [
    {
      "cell_type": "markdown",
      "metadata": {
        "id": "view-in-github",
        "colab_type": "text"
      },
      "source": [
        "<a href=\"https://colab.research.google.com/github/tejaswini0328/SE-lab/blob/main/SE_(16_12).ipynb\" target=\"_parent\"><img src=\"https://colab.research.google.com/assets/colab-badge.svg\" alt=\"Open In Colab\"/></a>"
      ]
    },
    {
      "cell_type": "code",
      "execution_count": 1,
      "metadata": {
        "colab": {
          "base_uri": "https://localhost:8080/"
        },
        "id": "3DInW0MMsdJa",
        "outputId": "27eaea58-1371-492e-98a5-138e6c0c959b"
      },
      "outputs": [
        {
          "output_type": "stream",
          "name": "stdout",
          "text": [
            "Stage 1: Hard-coding variables\n",
            "Weather Prediction: Stormy\n",
            "Calculated Weather Value (W): 286.50\n",
            "\n"
          ]
        }
      ],
      "source": [
        "def calculate_weather(temperature, humidity, wind_speed):\n",
        "    W = 0.5 * temperature**2 - 0.2 * humidity + 0.1 * wind_speed - 15\n",
        "    return W\n",
        "\n",
        "def map_to_category(W):\n",
        "    if W > 10000:\n",
        "        return \"Sunny\"\n",
        "    elif 2000 <= W <= 10000:\n",
        "        return \"Cloudy\"\n",
        "    elif 500 <= W < 2000:\n",
        "        return \"Rainy\"\n",
        "    else:\n",
        "        return \"Stormy\"\n",
        "\n",
        "def stage_1_hard_coding():\n",
        "    print(\"Stage 1: Hard-coding variables\")\n",
        "    temperature = 25\n",
        "    humidity = 60\n",
        "    wind_speed = 10\n",
        "    W = calculate_weather(temperature, humidity, wind_speed)\n",
        "    weather_category = map_to_category(W)\n",
        "    print(f\"Weather Prediction: {weather_category}\")\n",
        "    print(f\"Calculated Weather Value (W): {W:.2f}\\n\")\n",
        "\n",
        "if __name__ == \"__main__\":\n",
        "    stage_1_hard_coding()\n"
      ]
    },
    {
      "cell_type": "code",
      "source": [
        "def calculate_weather(temperature, humidity, wind_speed):\n",
        "    W = 0.5 * temperature**2 - 0.2 * humidity + 0.1 * wind_speed - 15\n",
        "    return W\n",
        "\n",
        "def map_to_category(W):\n",
        "    if W > 10000:\n",
        "        return \"Sunny\"\n",
        "    elif 2000 <= W <= 10000:\n",
        "        return \"Cloudy\"\n",
        "    elif 500 <= W < 2000:\n",
        "        return \"Rainy\"\n",
        "    else:\n",
        "        return \"Stormy\"\n",
        "\n",
        "def stage_2_keyboard_input():\n",
        "    print(\"Stage 2: Keyboard input\")\n",
        "    temperature = float(input(\"Enter the temperature (°C): \"))\n",
        "    humidity = float(input(\"Enter the humidity (%): \"))\n",
        "    wind_speed = float(input(\"Enter the wind speed (km/h): \"))\n",
        "    W = calculate_weather(temperature, humidity, wind_speed)\n",
        "    weather_category = map_to_category(W)\n",
        "    print(f\"Weather Prediction: {weather_category}\")\n",
        "    print(f\"Calculated Weather Value (W): {W:.2f}\\n\")\n",
        "\n",
        "if __name__ == \"__main__\":\n",
        "    stage_2_keyboard_input()\n"
      ],
      "metadata": {
        "colab": {
          "base_uri": "https://localhost:8080/"
        },
        "id": "0U61V0P9shKe",
        "outputId": "8b892ac2-934d-49ae-9654-a770f3513461"
      },
      "execution_count": 2,
      "outputs": [
        {
          "output_type": "stream",
          "name": "stdout",
          "text": [
            "Stage 2: Keyboard input\n",
            "Enter the temperature (°C): 26\n",
            "Enter the humidity (%): 4\n",
            "Enter the wind speed (km/h): 30\n",
            "Weather Prediction: Stormy\n",
            "Calculated Weather Value (W): 325.20\n",
            "\n"
          ]
        }
      ]
    },
    {
      "cell_type": "code",
      "source": [
        "def calculate_weather(temperature, humidity, wind_speed):\n",
        "    W = 0.5 * temperature**2 - 0.2 * humidity + 0.1 * wind_speed - 15\n",
        "    return W\n",
        "\n",
        "def map_to_category(W):\n",
        "    if W > 10000:\n",
        "        return \"Sunny\"\n",
        "    elif 2000 <= W <= 10000:\n",
        "        return \"Cloudy\"\n",
        "    elif 500 <= W < 2000:\n",
        "        return \"Rainy\"\n",
        "    else:\n",
        "        return \"Stormy\"\n",
        "\n",
        "def process_file(input_file):\n",
        "    print(\"Stage 3: Reading from file\")\n",
        "    try:\n",
        "        with open(input_file, 'r') as file:\n",
        "            for line in file:\n",
        "                if line.strip():\n",
        "                    try:\n",
        "                        temperature, humidity, wind_speed = map(float, line.split())\n",
        "                        W = calculate_weather(temperature, humidity, wind_speed)\n",
        "                        weather_category = map_to_category(W)\n",
        "                        print(f\"Temperature: {temperature}°C, Humidity: {humidity}%, Wind Speed: {wind_speed} km/h\")\n",
        "                        print(f\"Weather Prediction: {weather_category}\")\n",
        "                        print(f\"Calculated Weather Value (W): {W:.2f}\\n\")\n",
        "                    except ValueError:\n",
        "                        print(f\"Skipping invalid line: {line.strip()}\")\n",
        "    except FileNotFoundError:\n",
        "        print(f\"Error: The file '{input_file}' was not found.\")\n",
        "\n",
        "if __name__ == \"__main__\":\n",
        "    input_file = \"3.txt\"\n",
        "    process_file(input_file)\n"
      ],
      "metadata": {
        "colab": {
          "base_uri": "https://localhost:8080/"
        },
        "id": "iVNPzdf_si3a",
        "outputId": "c79ba36f-4617-4ed5-8c20-557911ebd89d"
      },
      "execution_count": 6,
      "outputs": [
        {
          "output_type": "stream",
          "name": "stdout",
          "text": [
            "Stage 3: Reading from file\n",
            "Temperature: 6.0°C, Humidity: 7.0%, Wind Speed: -9.0 km/h\n",
            "Weather Prediction: Stormy\n",
            "Calculated Weather Value (W): 0.70\n",
            "\n",
            "Temperature: 6.0°C, Humidity: 8.0%, Wind Speed: -3.0 km/h\n",
            "Weather Prediction: Stormy\n",
            "Calculated Weather Value (W): 1.10\n",
            "\n",
            "Temperature: 9.0°C, Humidity: 4.0%, Wind Speed: 2.0 km/h\n",
            "Weather Prediction: Stormy\n",
            "Calculated Weather Value (W): 24.90\n",
            "\n",
            "Temperature: 8.0°C, Humidity: -3.0%, Wind Speed: 6.0 km/h\n",
            "Weather Prediction: Stormy\n",
            "Calculated Weather Value (W): 18.20\n",
            "\n",
            "Temperature: 1.0°C, Humidity: -9.0%, Wind Speed: 2.0 km/h\n",
            "Weather Prediction: Stormy\n",
            "Calculated Weather Value (W): -12.50\n",
            "\n"
          ]
        }
      ]
    },
    {
      "cell_type": "code",
      "source": [
        "def calculate_weather(temperature, humidity, wind_speed):\n",
        "    W = 0.5 * temperature**2 - 0.2 * humidity + 0.1 * wind_speed - 15\n",
        "    return W\n",
        "\n",
        "def map_to_category(W):\n",
        "    if W > 10000:\n",
        "        return \"Sunny\"\n",
        "    elif 2000 <= W <= 10000:\n",
        "        return \"Cloudy\"\n",
        "    elif 500 <= W < 2000:\n",
        "        return \"Rainy\"\n",
        "    else:\n",
        "        return \"Stormy\"\n",
        "\n",
        "def stage_4_single_input_from_file(input_file):\n",
        "    print(\"Stage 4: Processing a single set of input from file\")\n",
        "    try:\n",
        "        with open(input_file, 'r') as file:\n",
        "            line = file.readline()\n",
        "            if line.strip():\n",
        "                try:\n",
        "                    temperature, humidity, wind_speed = map(float, line.split())\n",
        "                    W = calculate_weather(temperature, humidity, wind_speed)\n",
        "                    weather_category = map_to_category(W)\n",
        "                    print(f\"Temperature: {temperature}°C, Humidity: {humidity}%, Wind Speed: {wind_speed} km/h\")\n",
        "                    print(f\"Weather Prediction: {weather_category}\")\n",
        "                    print(f\"Calculated Weather Value (W): {W:.2f}\\n\")\n",
        "                except ValueError:\n",
        "                    print(f\"Skipping invalid line: {line.strip()}\")\n",
        "    except FileNotFoundError:\n",
        "        print(f\"Error: The file '{input_file}' was not found.\")\n",
        "\n",
        "if __name__ == \"__main__\":\n",
        "    input_file = \"3.txt\"\n",
        "    stage_4_single_input_from_file(input_file)\n"
      ],
      "metadata": {
        "colab": {
          "base_uri": "https://localhost:8080/"
        },
        "id": "WbzlM1Jlsy1L",
        "outputId": "87f91042-3c41-423c-a232-2f934f5ecc12"
      },
      "execution_count": 7,
      "outputs": [
        {
          "output_type": "stream",
          "name": "stdout",
          "text": [
            "Stage 4: Processing a single set of input from file\n",
            "Temperature: 6.0°C, Humidity: 7.0%, Wind Speed: -9.0 km/h\n",
            "Weather Prediction: Stormy\n",
            "Calculated Weather Value (W): 0.70\n",
            "\n"
          ]
        }
      ]
    },
    {
      "cell_type": "code",
      "source": [
        "def calculate_weather(temperature, humidity, wind_speed):\n",
        "    W = 0.5 * temperature**2 - 0.2 * humidity + 0.1 * wind_speed - 15\n",
        "    return W\n",
        "\n",
        "def map_to_category(W):\n",
        "    if W > 10000:\n",
        "        return \"Sunny\"\n",
        "    elif 2000 <= W <= 10000:\n",
        "        return \"Cloudy\"\n",
        "    elif 500 <= W < 2000:\n",
        "        return \"Rainy\"\n",
        "    else:\n",
        "        return \"Stormy\"\n",
        "\n",
        "def stage_5_multiple_inputs_from_file(input_file):\n",
        "    print(\"Stage 5: Processing multiple sets of input from file\")\n",
        "    try:\n",
        "        with open(input_file, 'r') as file:\n",
        "            for line in file:\n",
        "                if line.strip():\n",
        "                    try:\n",
        "                        temperature, humidity, wind_speed = map(float, line.split())\n",
        "                        W = calculate_weather(temperature, humidity, wind_speed)\n",
        "                        weather_category = map_to_category(W)\n",
        "                        print(f\"Temperature: {temperature}°C, Humidity: {humidity}%, Wind Speed: {wind_speed} km/h\")\n",
        "                        print(f\"Weather Prediction: {weather_category}\")\n",
        "                        print(f\"Calculated Weather Value (W): {W:.2f}\\n\")\n",
        "                    except ValueError:\n",
        "                        print(f\"Skipping invalid line: {line.strip()}\")\n",
        "    except FileNotFoundError:\n",
        "        print(f\"Error: The file '{input_file}' was not found.\")\n",
        "\n",
        "if __name__ == \"__main__\":\n",
        "    input_file = \"3.txt\"\n",
        "    stage_5_multiple_inputs_from_file(input_file)\n"
      ],
      "metadata": {
        "colab": {
          "base_uri": "https://localhost:8080/"
        },
        "id": "FAS910Jps3pw",
        "outputId": "7ee3de9e-912d-48a3-cd3c-9745ff7935af"
      },
      "execution_count": 8,
      "outputs": [
        {
          "output_type": "stream",
          "name": "stdout",
          "text": [
            "Stage 5: Processing multiple sets of input from file\n",
            "Temperature: 6.0°C, Humidity: 7.0%, Wind Speed: -9.0 km/h\n",
            "Weather Prediction: Stormy\n",
            "Calculated Weather Value (W): 0.70\n",
            "\n",
            "Temperature: 6.0°C, Humidity: 8.0%, Wind Speed: -3.0 km/h\n",
            "Weather Prediction: Stormy\n",
            "Calculated Weather Value (W): 1.10\n",
            "\n",
            "Temperature: 9.0°C, Humidity: 4.0%, Wind Speed: 2.0 km/h\n",
            "Weather Prediction: Stormy\n",
            "Calculated Weather Value (W): 24.90\n",
            "\n",
            "Temperature: 8.0°C, Humidity: -3.0%, Wind Speed: 6.0 km/h\n",
            "Weather Prediction: Stormy\n",
            "Calculated Weather Value (W): 18.20\n",
            "\n",
            "Temperature: 1.0°C, Humidity: -9.0%, Wind Speed: 2.0 km/h\n",
            "Weather Prediction: Stormy\n",
            "Calculated Weather Value (W): -12.50\n",
            "\n"
          ]
        }
      ]
    }
  ]
}